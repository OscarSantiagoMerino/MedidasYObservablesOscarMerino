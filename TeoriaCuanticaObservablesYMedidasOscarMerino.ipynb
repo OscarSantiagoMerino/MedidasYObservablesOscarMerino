{
 "cells": [
  {
   "cell_type": "markdown",
   "metadata": {},
   "source": [
    "## Teoría cuántica básica, Observables y Medidas"
   ]
  },
  {
   "cell_type": "markdown",
   "metadata": {},
   "source": [
    "Oscar Santiago Merino Suarez"
   ]
  },
  {
   "cell_type": "markdown",
   "metadata": {},
   "source": [
    "#### Simule el primer sistema cuántico descrito en la sección 4.1."
   ]
  },
  {
   "cell_type": "markdown",
   "metadata": {},
   "source": [
    "El sistema consiste en una partícula confinada a un conjunto discreto de posiciones en una línea. El simulador debe permitir especificar el número de posiciones y un vector ket de estado asignando las amplitudes."
   ]
  },
  {
   "cell_type": "markdown",
   "metadata": {},
   "source": [
    "1. El sistema debe calcular la probabilidad de encontrarlo en una posición en particular."
   ]
  },
  {
   "cell_type": "code",
   "execution_count": null,
   "metadata": {},
   "outputs": [],
   "source": [
    "import numpy as np\n",
    "\n",
    "def normalize_state(ket):\n",
    "    norm = np.linalg.norm(ket)\n",
    "    if norm == 0:\n",
    "        raise ValueError(\"El vector de estado no puede ser el vector nulo.\")\n",
    "    return ket / norm\n",
    "\n",
    "def compute_probabilities(ket):\n",
    "    norm_ket = normalize_state(ket)\n",
    "    probabilities = np.abs(norm_ket) ** 2\n",
    "    return probabilities\n",
    "\n",
    "n = 5  # Número de posiciones discretas\n",
    "ket = np.array([1 + 1j, 0, 0, 1 - 1j, 0], dtype=complex)  \n",
    "\n",
    "probabilities = compute_probabilities(ket)\n",
    "\n",
    "for i, p in enumerate(probabilities):\n",
    "    print(f\"Probabilidad de encontrar la partícula en x_{i}: {p:.4f}\")"
   ]
  },
  {
   "cell_type": "markdown",
   "metadata": {},
   "source": [
    "2. El sistema si se le da otro vector Ket debe buscar la probabilidad de transitar del primer vector al segundo."
   ]
  },
  {
   "cell_type": "code",
   "execution_count": null,
   "metadata": {},
   "outputs": [
    {
     "name": "stdout",
     "output_type": "stream",
     "text": [
      "Probabilidad de transitar de ket1 a ket2: 0.0000\n"
     ]
    }
   ],
   "source": [
    "import numpy as np\n",
    "\n",
    "def normalize_state(ket):\n",
    "    norm = np.linalg.norm(ket)\n",
    "    if norm == 0:\n",
    "        raise ValueError(\"El vector de estado no puede ser el vector nulo.\")\n",
    "    return ket / norm\n",
    "\n",
    "def transition_probability(ket1, ket2):\n",
    "    norm_ket1 = normalize_state(ket1)\n",
    "    norm_ket2 = normalize_state(ket2)\n",
    "    return np.abs(np.vdot(norm_ket1, norm_ket2)) ** 2\n",
    "\n",
    "\n",
    "ket1 = np.array([1 + 1j, 0, 0, 1 - 1j, 0], dtype=complex)  \n",
    "ket2 = np.array([0, 1, 1j, 0, 1], dtype=complex)  \n",
    "transition_prob = transition_probability(ket1, ket2)\n",
    "print(f\"Probabilidad de transitar de ket1 a ket2: {transition_prob:.4f}\")\n",
    "\n"
   ]
  }
 ],
 "metadata": {
  "kernelspec": {
   "display_name": "Python 3",
   "language": "python",
   "name": "python3"
  },
  "language_info": {
   "codemirror_mode": {
    "name": "ipython",
    "version": 3
   },
   "file_extension": ".py",
   "mimetype": "text/x-python",
   "name": "python",
   "nbconvert_exporter": "python",
   "pygments_lexer": "ipython3",
   "version": "3.11.7"
  }
 },
 "nbformat": 4,
 "nbformat_minor": 2
}
